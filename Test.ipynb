{
 "cells": [
  {
   "cell_type": "code",
   "execution_count": null,
   "metadata": {},
   "outputs": [
    {
     "name": "stdout",
     "output_type": "stream",
     "text": [
      "Progress: 0/15\n",
      "Progress: 1/15\n",
      "Progress: 2/15\n",
      "Progress: 3/15\n"
     ]
    }
   ],
   "source": [
    "import glassdoor_scraper as gs\n",
    "import pandas as pd\n",
    "\n",
    "\n",
    "path = \"C:/Users/mosto/REPOSITORY/Gl_Salary_proj/chromedriver\"\n",
    "\n",
    "\n",
    "df= gs.get_jobs('data scientist', 15, False, path, 25)\n",
    "df"
   ]
  }
 ],
 "metadata": {
  "kernelspec": {
   "display_name": "Python 3",
   "language": "python",
   "name": "python3"
  },
  "language_info": {
   "codemirror_mode": {
    "name": "ipython",
    "version": 3
   },
   "file_extension": ".py",
   "mimetype": "text/x-python",
   "name": "python",
   "nbconvert_exporter": "python",
   "pygments_lexer": "ipython3",
   "version": "3.7.9"
  }
 },
 "nbformat": 4,
 "nbformat_minor": 4
}
